{
 "cells": [
  {
   "cell_type": "markdown",
   "metadata": {},
   "source": [
    "# Classification - Mini-Project 2"
   ]
  },
  {
   "cell_type": "markdown",
   "metadata": {},
   "source": [
    "***Edit this cell with your name(s), tutorial number(s) and ID(s)***\n",
    "\n",
    "---\n",
    "\n",
    "Name:\n",
    "\n",
    "ID:\n",
    "\n",
    "Tutorial:\n",
    "\n",
    "---\n",
    "\n",
    "Name:\n",
    "\n",
    "ID:\n",
    "\n",
    "Tutorial:\n",
    "\n",
    "---\n",
    "\n",
    "Name:\n",
    "\n",
    "ID:\n",
    "\n",
    "Tutorial:\n",
    "\n",
    "---\n"
   ]
  },
  {
   "cell_type": "markdown",
   "metadata": {},
   "source": [
    "## Dataset Description\n",
    "\n",
    "The data set includes information about:\n",
    "\n",
    "- Customers who left within the last month – the column is called Churn\n",
    "- Services that each customer has signed up for – phone, multiple lines, internet, online security, online backup, device protection, tech support, and streaming TV and movies\n",
    "- Customer account information – how long they’ve been a customer, contract, payment method, paperless billing, monthly charges, and total charges\n",
    "- Demographic info about customers – gender, age range, and if they have partners and dependents\n",
    "\n",
    "Each row represents a customer, and each column represents customer attributes as described below.\n",
    "\n",
    "| Column | Description|\n",
    "|-|-|\n",
    "|gender|Whether the customer is a male or a female|\n",
    "|SeniorCitizen| Whether the customer is a senior citizen or not (1, 0)|\n",
    "|Partner|Whether the customer has a partner or not (Yes, No)|\n",
    "|Dependents|Whether the customer has dependents or not (Yes, No)|\n",
    "|tenure| Number of months the customer has stayed with the company|\n",
    "|PhoneService|Whether the customer has a phone service or not (Yes, No)|\n",
    "|MultipleLines|Whether the customer has multiple lines or not (Yes, No, No phone service*)|\n",
    "|InternetService|Customer’s internet service provider (DSL, Fiber optic, No)|\n",
    "|OnlineSecurity|Whether the customer has online security or not (Yes, No, No internet service**)|\n",
    "|OnlineBackup|Whether the customer has online backup or not (Yes, No, No internet service)|\n",
    "|DeviceProtection|Whether the customer has device protection or not (Yes, No, No internet service)|\n",
    "|TechSupport|Whether the customer has tech support or not (Yes, No, No internet service)|\n",
    "|StreamingTV|Whether the customer has streaming TV or not (Yes, No, No internet service) |\n",
    "|StreamingMovies|Whether the customer has streaming movies or not (Yes, No, No internet service)|\n",
    "|Contract|The contract term of the customer (Month-to-month, One year, Two year)|\n",
    "|PaperlessBilling|Whether the customer has paperless billing or not (Yes, No)|\n",
    "|PaymentMethod|The customer’s payment method (Electronic check, Mailed check, Bank transfer (automatic), Credit card (automatic))|\n",
    "|MonthlyCharges|The amount charged to the customer monthly|\n",
    "|TotalCharges|The total amount charged to the customer|\n",
    "|Churn|Whether the customer churned or not (Yes or No)|\n",
    "\n",
    "\\* No phone service means the customer's plan does not include calling (could be a data-only plan)\n",
    "\n",
    "\\*\\* No internet service means the customer's plan does not include internet/data and so the addon package does not apply"
   ]
  },
  {
   "cell_type": "markdown",
   "metadata": {},
   "source": [
    "## Importing Libraries & Dataset"
   ]
  },
  {
   "cell_type": "code",
   "execution_count": 1,
   "metadata": {},
   "outputs": [],
   "source": [
    "import pandas as pd\n",
    "import numpy as np\n",
    "import matplotlib.pyplot as plt\n",
    "import seaborn as sns\n",
    "\n",
    "%matplotlib inline\n",
    "plt.style.use(\"seaborn\")\n",
    "\n",
    "df = pd.read_csv('https://raw.githubusercontent.com/GUC-DM/W2024/main/data/telecom_churn.csv')\n",
    "\n",
    "df.head()"
   ]
  },
  {
   "cell_type": "markdown",
   "metadata": {},
   "source": [
    "## Data Inspection"
   ]
  },
  {
   "cell_type": "code",
   "execution_count": null,
   "metadata": {},
   "outputs": [],
   "source": []
  },
  {
   "cell_type": "markdown",
   "metadata": {},
   "source": [
    "## Data Cleaning"
   ]
  },
  {
   "cell_type": "code",
   "execution_count": null,
   "metadata": {},
   "outputs": [],
   "source": []
  },
  {
   "cell_type": "markdown",
   "metadata": {},
   "source": [
    "## Exploratory Data Analysis"
   ]
  },
  {
   "cell_type": "markdown",
   "metadata": {},
   "source": [
    "**Q1: What are the most correlated attributes with customer churn?**"
   ]
  },
  {
   "cell_type": "markdown",
   "metadata": {},
   "source": [
    "**Visualization**"
   ]
  },
  {
   "cell_type": "code",
   "execution_count": null,
   "metadata": {},
   "outputs": [],
   "source": []
  },
  {
   "cell_type": "markdown",
   "metadata": {},
   "source": [
    "**Answer for Q1**: Your answer here"
   ]
  },
  {
   "cell_type": "markdown",
   "metadata": {},
   "source": [
    "**Q2: Which payment method has the highest churn rate?**"
   ]
  },
  {
   "cell_type": "markdown",
   "metadata": {},
   "source": [
    "**Visualization**"
   ]
  },
  {
   "cell_type": "code",
   "execution_count": null,
   "metadata": {},
   "outputs": [],
   "source": []
  },
  {
   "cell_type": "markdown",
   "metadata": {},
   "source": [
    "**Answer for Q2**: Your answer here"
   ]
  },
  {
   "cell_type": "markdown",
   "metadata": {},
   "source": [
    "**Q3: After how many months do customers commonly churn?** (Hint: show and interpret the distribution)"
   ]
  },
  {
   "cell_type": "markdown",
   "metadata": {},
   "source": [
    "**Visualization**"
   ]
  },
  {
   "cell_type": "code",
   "execution_count": null,
   "metadata": {},
   "outputs": [],
   "source": []
  },
  {
   "cell_type": "markdown",
   "metadata": {},
   "source": [
    "**Answer for Q3**: Your answer here"
   ]
  },
  {
   "cell_type": "markdown",
   "metadata": {},
   "source": [
    "## Data Preparation for Modelling"
   ]
  },
  {
   "cell_type": "code",
   "execution_count": null,
   "metadata": {},
   "outputs": [],
   "source": []
  },
  {
   "cell_type": "markdown",
   "metadata": {},
   "source": [
    "## Modelling"
   ]
  },
  {
   "cell_type": "code",
   "execution_count": null,
   "metadata": {},
   "outputs": [],
   "source": []
  },
  {
   "cell_type": "markdown",
   "metadata": {},
   "source": [
    "### Tree Visualization"
   ]
  },
  {
   "cell_type": "code",
   "execution_count": null,
   "metadata": {},
   "outputs": [],
   "source": []
  },
  {
   "cell_type": "markdown",
   "metadata": {},
   "source": [
    "## Evaluation"
   ]
  },
  {
   "cell_type": "code",
   "execution_count": null,
   "metadata": {},
   "outputs": [],
   "source": []
  },
  {
   "cell_type": "markdown",
   "metadata": {},
   "source": [
    "## Bonus (Optional)"
   ]
  },
  {
   "cell_type": "code",
   "execution_count": null,
   "metadata": {},
   "outputs": [],
   "source": []
  }
 ],
 "metadata": {
  "kernelspec": {
   "display_name": "Python 3.9.13 ('base')",
   "language": "python",
   "name": "python3"
  },
  "language_info": {
   "codemirror_mode": {
    "name": "ipython",
    "version": 3
   },
   "file_extension": ".py",
   "mimetype": "text/x-python",
   "name": "python",
   "nbconvert_exporter": "python",
   "pygments_lexer": "ipython3",
   "version": "3.9.13"
  },
  "vscode": {
   "interpreter": {
    "hash": "806d670c7bb2cbe074590fc196bfaf591c17bcc1c3e5afa2a6f71dcbde559284"
   }
  }
 },
 "nbformat": 4,
 "nbformat_minor": 4
}
